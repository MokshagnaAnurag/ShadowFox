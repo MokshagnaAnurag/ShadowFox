{
  "nbformat": 4,
  "nbformat_minor": 0,
  "metadata": {
    "colab": {
      "provenance": [],
      "toc_visible": true
    },
    "kernelspec": {
      "name": "python3",
      "display_name": "Python 3"
    },
    "language_info": {
      "name": "python"
    }
  },
  "cells": [
    {
      "cell_type": "markdown",
      "source": [
        "# **Boston House Price Prediction**"
      ],
      "metadata": {
        "id": "PKKRiCTIQV1I"
      }
    },
    {
      "cell_type": "markdown",
      "source": [
        "# **Step 1: Load and Preprocess the Data**"
      ],
      "metadata": {
        "id": "mlFxZb4MQCEq"
      }
    },
    {
      "cell_type": "code",
      "execution_count": null,
      "metadata": {
        "colab": {
          "base_uri": "https://localhost:8080/",
          "height": 1000
        },
        "id": "VnhYhQURK3ui",
        "outputId": "36ebaa25-451e-42c0-f179-f7584bcb7cb6"
      },
      "outputs": [
        {
          "output_type": "display_data",
          "data": {
            "text/plain": [
              "<IPython.core.display.HTML object>"
            ],
            "text/html": [
              "\n",
              "     <input type=\"file\" id=\"files-7001861d-2d6f-429d-be54-376c64dd661e\" name=\"files[]\" multiple disabled\n",
              "        style=\"border:none\" />\n",
              "     <output id=\"result-7001861d-2d6f-429d-be54-376c64dd661e\">\n",
              "      Upload widget is only available when the cell has been executed in the\n",
              "      current browser session. Please rerun this cell to enable.\n",
              "      </output>\n",
              "      <script>// Copyright 2017 Google LLC\n",
              "//\n",
              "// Licensed under the Apache License, Version 2.0 (the \"License\");\n",
              "// you may not use this file except in compliance with the License.\n",
              "// You may obtain a copy of the License at\n",
              "//\n",
              "//      http://www.apache.org/licenses/LICENSE-2.0\n",
              "//\n",
              "// Unless required by applicable law or agreed to in writing, software\n",
              "// distributed under the License is distributed on an \"AS IS\" BASIS,\n",
              "// WITHOUT WARRANTIES OR CONDITIONS OF ANY KIND, either express or implied.\n",
              "// See the License for the specific language governing permissions and\n",
              "// limitations under the License.\n",
              "\n",
              "/**\n",
              " * @fileoverview Helpers for google.colab Python module.\n",
              " */\n",
              "(function(scope) {\n",
              "function span(text, styleAttributes = {}) {\n",
              "  const element = document.createElement('span');\n",
              "  element.textContent = text;\n",
              "  for (const key of Object.keys(styleAttributes)) {\n",
              "    element.style[key] = styleAttributes[key];\n",
              "  }\n",
              "  return element;\n",
              "}\n",
              "\n",
              "// Max number of bytes which will be uploaded at a time.\n",
              "const MAX_PAYLOAD_SIZE = 100 * 1024;\n",
              "\n",
              "function _uploadFiles(inputId, outputId) {\n",
              "  const steps = uploadFilesStep(inputId, outputId);\n",
              "  const outputElement = document.getElementById(outputId);\n",
              "  // Cache steps on the outputElement to make it available for the next call\n",
              "  // to uploadFilesContinue from Python.\n",
              "  outputElement.steps = steps;\n",
              "\n",
              "  return _uploadFilesContinue(outputId);\n",
              "}\n",
              "\n",
              "// This is roughly an async generator (not supported in the browser yet),\n",
              "// where there are multiple asynchronous steps and the Python side is going\n",
              "// to poll for completion of each step.\n",
              "// This uses a Promise to block the python side on completion of each step,\n",
              "// then passes the result of the previous step as the input to the next step.\n",
              "function _uploadFilesContinue(outputId) {\n",
              "  const outputElement = document.getElementById(outputId);\n",
              "  const steps = outputElement.steps;\n",
              "\n",
              "  const next = steps.next(outputElement.lastPromiseValue);\n",
              "  return Promise.resolve(next.value.promise).then((value) => {\n",
              "    // Cache the last promise value to make it available to the next\n",
              "    // step of the generator.\n",
              "    outputElement.lastPromiseValue = value;\n",
              "    return next.value.response;\n",
              "  });\n",
              "}\n",
              "\n",
              "/**\n",
              " * Generator function which is called between each async step of the upload\n",
              " * process.\n",
              " * @param {string} inputId Element ID of the input file picker element.\n",
              " * @param {string} outputId Element ID of the output display.\n",
              " * @return {!Iterable<!Object>} Iterable of next steps.\n",
              " */\n",
              "function* uploadFilesStep(inputId, outputId) {\n",
              "  const inputElement = document.getElementById(inputId);\n",
              "  inputElement.disabled = false;\n",
              "\n",
              "  const outputElement = document.getElementById(outputId);\n",
              "  outputElement.innerHTML = '';\n",
              "\n",
              "  const pickedPromise = new Promise((resolve) => {\n",
              "    inputElement.addEventListener('change', (e) => {\n",
              "      resolve(e.target.files);\n",
              "    });\n",
              "  });\n",
              "\n",
              "  const cancel = document.createElement('button');\n",
              "  inputElement.parentElement.appendChild(cancel);\n",
              "  cancel.textContent = 'Cancel upload';\n",
              "  const cancelPromise = new Promise((resolve) => {\n",
              "    cancel.onclick = () => {\n",
              "      resolve(null);\n",
              "    };\n",
              "  });\n",
              "\n",
              "  // Wait for the user to pick the files.\n",
              "  const files = yield {\n",
              "    promise: Promise.race([pickedPromise, cancelPromise]),\n",
              "    response: {\n",
              "      action: 'starting',\n",
              "    }\n",
              "  };\n",
              "\n",
              "  cancel.remove();\n",
              "\n",
              "  // Disable the input element since further picks are not allowed.\n",
              "  inputElement.disabled = true;\n",
              "\n",
              "  if (!files) {\n",
              "    return {\n",
              "      response: {\n",
              "        action: 'complete',\n",
              "      }\n",
              "    };\n",
              "  }\n",
              "\n",
              "  for (const file of files) {\n",
              "    const li = document.createElement('li');\n",
              "    li.append(span(file.name, {fontWeight: 'bold'}));\n",
              "    li.append(span(\n",
              "        `(${file.type || 'n/a'}) - ${file.size} bytes, ` +\n",
              "        `last modified: ${\n",
              "            file.lastModifiedDate ? file.lastModifiedDate.toLocaleDateString() :\n",
              "                                    'n/a'} - `));\n",
              "    const percent = span('0% done');\n",
              "    li.appendChild(percent);\n",
              "\n",
              "    outputElement.appendChild(li);\n",
              "\n",
              "    const fileDataPromise = new Promise((resolve) => {\n",
              "      const reader = new FileReader();\n",
              "      reader.onload = (e) => {\n",
              "        resolve(e.target.result);\n",
              "      };\n",
              "      reader.readAsArrayBuffer(file);\n",
              "    });\n",
              "    // Wait for the data to be ready.\n",
              "    let fileData = yield {\n",
              "      promise: fileDataPromise,\n",
              "      response: {\n",
              "        action: 'continue',\n",
              "      }\n",
              "    };\n",
              "\n",
              "    // Use a chunked sending to avoid message size limits. See b/62115660.\n",
              "    let position = 0;\n",
              "    do {\n",
              "      const length = Math.min(fileData.byteLength - position, MAX_PAYLOAD_SIZE);\n",
              "      const chunk = new Uint8Array(fileData, position, length);\n",
              "      position += length;\n",
              "\n",
              "      const base64 = btoa(String.fromCharCode.apply(null, chunk));\n",
              "      yield {\n",
              "        response: {\n",
              "          action: 'append',\n",
              "          file: file.name,\n",
              "          data: base64,\n",
              "        },\n",
              "      };\n",
              "\n",
              "      let percentDone = fileData.byteLength === 0 ?\n",
              "          100 :\n",
              "          Math.round((position / fileData.byteLength) * 100);\n",
              "      percent.textContent = `${percentDone}% done`;\n",
              "\n",
              "    } while (position < fileData.byteLength);\n",
              "  }\n",
              "\n",
              "  // All done.\n",
              "  yield {\n",
              "    response: {\n",
              "      action: 'complete',\n",
              "    }\n",
              "  };\n",
              "}\n",
              "\n",
              "scope.google = scope.google || {};\n",
              "scope.google.colab = scope.google.colab || {};\n",
              "scope.google.colab._files = {\n",
              "  _uploadFiles,\n",
              "  _uploadFilesContinue,\n",
              "};\n",
              "})(self);\n",
              "</script> "
            ]
          },
          "metadata": {}
        },
        {
          "output_type": "stream",
          "name": "stdout",
          "text": [
            "Saving HousingData.csv to HousingData.csv\n",
            "      CRIM    ZN  INDUS  CHAS    NOX     RM   AGE     DIS  RAD  TAX  PTRATIO  \\\n",
            "0  0.00632  18.0   2.31   0.0  0.538  6.575  65.2  4.0900    1  296     15.3   \n",
            "1  0.02731   0.0   7.07   0.0  0.469  6.421  78.9  4.9671    2  242     17.8   \n",
            "2  0.02729   0.0   7.07   0.0  0.469  7.185  61.1  4.9671    2  242     17.8   \n",
            "3  0.03237   0.0   2.18   0.0  0.458  6.998  45.8  6.0622    3  222     18.7   \n",
            "4  0.06905   0.0   2.18   0.0  0.458  7.147  54.2  6.0622    3  222     18.7   \n",
            "\n",
            "        B  LSTAT  MEDV  \n",
            "0  396.90   4.98  24.0  \n",
            "1  396.90   9.14  21.6  \n",
            "2  392.83   4.03  34.7  \n",
            "3  394.63   2.94  33.4  \n",
            "4  396.90    NaN  36.2  \n",
            "CRIM       20\n",
            "ZN         20\n",
            "INDUS      20\n",
            "CHAS       20\n",
            "NOX         0\n",
            "RM          0\n",
            "AGE        20\n",
            "DIS         0\n",
            "RAD         0\n",
            "TAX         0\n",
            "PTRATIO     0\n",
            "B           0\n",
            "LSTAT      20\n",
            "MEDV        0\n",
            "dtype: int64\n",
            "             CRIM          ZN       INDUS        CHAS         NOX          RM  \\\n",
            "count  506.000000  506.000000  506.000000  506.000000  506.000000  506.000000   \n",
            "mean     3.611874   11.211934   11.083992    0.069959    0.554695    6.284634   \n",
            "std      8.545770   22.921051    6.699165    0.250233    0.115878    0.702617   \n",
            "min      0.006320    0.000000    0.460000    0.000000    0.385000    3.561000   \n",
            "25%      0.083235    0.000000    5.190000    0.000000    0.449000    5.885500   \n",
            "50%      0.290250    0.000000    9.900000    0.000000    0.538000    6.208500   \n",
            "75%      3.611874   11.211934   18.100000    0.000000    0.624000    6.623500   \n",
            "max     88.976200  100.000000   27.740000    1.000000    0.871000    8.780000   \n",
            "\n",
            "              AGE         DIS         RAD         TAX     PTRATIO           B  \\\n",
            "count  506.000000  506.000000  506.000000  506.000000  506.000000  506.000000   \n",
            "mean    68.518519    3.795043    9.549407  408.237154   18.455534  356.674032   \n",
            "std     27.439466    2.105710    8.707259  168.537116    2.164946   91.294864   \n",
            "min      2.900000    1.129600    1.000000  187.000000   12.600000    0.320000   \n",
            "25%     45.925000    2.100175    4.000000  279.000000   17.400000  375.377500   \n",
            "50%     74.450000    3.207450    5.000000  330.000000   19.050000  391.440000   \n",
            "75%     93.575000    5.188425   24.000000  666.000000   20.200000  396.225000   \n",
            "max    100.000000   12.126500   24.000000  711.000000   22.000000  396.900000   \n",
            "\n",
            "            LSTAT        MEDV  \n",
            "count  506.000000  506.000000  \n",
            "mean    12.715432   22.532806  \n",
            "std      7.012739    9.197104  \n",
            "min      1.730000    5.000000  \n",
            "25%      7.230000   17.025000  \n",
            "50%     11.995000   21.200000  \n",
            "75%     16.570000   25.000000  \n",
            "max     37.970000   50.000000  \n"
          ]
        },
        {
          "output_type": "display_data",
          "data": {
            "text/plain": [
              "<Figure size 1200x800 with 1 Axes>"
            ],
            "image/png": "[encoded data removed]"
          },
          "metadata": {}
        }
      ],
      "source": [
        "import pandas as pd\n",
        "import numpy as np\n",
        "import matplotlib.pyplot as plt\n",
        "import seaborn as sns\n",
        "from sklearn.model_selection import train_test_split\n",
        "from sklearn.preprocessing import StandardScaler\n",
        "from google.colab import files\n",
        "uploaded = files.upload()\n",
        "import io\n",
        "data = pd.read_csv(io.BytesIO(uploaded['HousingData.csv']))\n",
        "print(data.head())\n",
        "print(data.isnull().sum())\n",
        "data.fillna(data.mean(), inplace=True)\n",
        "print(data.describe())\n",
        "plt.figure(figsize=(12,8))\n",
        "sns.boxplot(data=data)\n",
        "plt.xticks(rotation=90)\n",
        "plt.show()\n"
      ]
    },
    {
      "cell_type": "code",
      "source": [
        "# Print the column names to inspect them\n",
        "print(data.columns)\n"
      ],
      "metadata": {
        "colab": {
          "base_uri": "https://localhost:8080/"
        },
        "id": "LFS8zLh6LzNJ",
        "outputId": "5e1cad3d-ddaa-4b34-ff9b-cad4db1cc7ff"
      },
      "execution_count": null,
      "outputs": [
        {
          "output_type": "stream",
          "name": "stdout",
          "text": [
            "Index(['CRIM', 'ZN', 'INDUS', 'CHAS', 'NOX', 'RM', 'AGE', 'DIS', 'RAD', 'TAX',\n",
            "       'PTRATIO', 'B', 'LSTAT', 'MEDV'],\n",
            "      dtype='object')\n"
          ]
        }
      ]
    },
    {
      "cell_type": "markdown",
      "source": [
        "# **Step 2: Feature Selection and Target Variable**"
      ],
      "metadata": {
        "id": "BlaPnAfWP9fI"
      }
    },
    {
      "cell_type": "code",
      "source": [
        "# Use the correct column name for the target variable, which is 'MEDV'\n",
        "X = data.drop(columns=['MEDV'])  # Features\n",
        "y = data['MEDV']  # Target\n",
        "\n",
        "# Splitting the dataset into training and testing sets\n",
        "from sklearn.model_selection import train_test_split\n",
        "X_train, X_test, y_train, y_test = train_test_split(X, y, test_size=0.2, random_state=42)\n",
        "\n",
        "# Proceed with scaling and model training\n",
        "from sklearn.preprocessing import StandardScaler\n",
        "\n",
        "# Scaling the features\n",
        "scaler = StandardScaler()\n",
        "X_train_scaled = scaler.fit_transform(X_train)\n",
        "X_test_scaled = scaler.transform(X_test)\n",
        "\n",
        "# Now you can proceed with your model training and evaluation\n"
      ],
      "metadata": {
        "id": "1ld3wEB8L_KH"
      },
      "execution_count": null,
      "outputs": []
    },
    {
      "cell_type": "markdown",
      "source": [
        "# 3. Model **Selection**"
      ],
      "metadata": {
        "id": "crI-SofMRo_y"
      }
    },
    {
      "cell_type": "markdown",
      "source": [
        "**Linear Regression:**"
      ],
      "metadata": {
        "id": "gqZVqBUTRsNp"
      }
    },
    {
      "cell_type": "code",
      "source": [
        "# Importing Linear Regression and metrics\n",
        "from sklearn.linear_model import LinearRegression\n",
        "from sklearn.metrics import mean_squared_error, r2_score\n",
        "\n",
        "# Initialize the Linear Regression model\n",
        "lr_model = LinearRegression()\n",
        "\n",
        "# Train the model\n",
        "lr_model.fit(X_train_scaled, y_train)\n",
        "\n",
        "# Predict on the test data\n",
        "y_pred_lr = lr_model.predict(X_test_scaled)\n",
        "\n",
        "# Evaluate the model\n",
        "mse_lr = mean_squared_error(y_test, y_pred_lr)\n",
        "r2_lr = r2_score(y_test, y_pred_lr)\n",
        "\n",
        "print(f\"Linear Regression Mean Squared Error: {mse_lr}\")\n",
        "print(f\"Linear Regression R-squared Score: {r2_lr}\")\n"
      ],
      "metadata": {
        "colab": {
          "base_uri": "https://localhost:8080/"
        },
        "id": "01ppJyJ2MnDg",
        "outputId": "8ab2e735-fe68-4633-fc20-8fb23155f54d"
      },
      "execution_count": null,
      "outputs": [
        {
          "output_type": "stream",
          "name": "stdout",
          "text": [
            "Linear Regression Mean Squared Error: 25.017672023842852\n",
            "Linear Regression R-squared Score: 0.658852019550812\n"
          ]
        }
      ]
    },
    {
      "cell_type": "markdown",
      "source": [
        "**Decision Tree Regressor:**"
      ],
      "metadata": {
        "id": "vQ9sTQMNR4Nu"
      }
    },
    {
      "cell_type": "code",
      "source": [
        "from sklearn.tree import DecisionTreeRegressor\n",
        "\n",
        "# Initialize Decision Tree Regressor\n",
        "dt_model = DecisionTreeRegressor(random_state=42)\n",
        "\n",
        "# Train the model\n",
        "dt_model.fit(X_train_scaled, y_train)\n",
        "\n",
        "# Predict on the test data\n",
        "y_pred_dt = dt_model.predict(X_test_scaled)\n",
        "\n",
        "# Evaluate the model\n",
        "mse_dt = mean_squared_error(y_test, y_pred_dt)\n",
        "r2_dt = r2_score(y_test, y_pred_dt)\n",
        "\n",
        "print(f\"Decision Tree Mean Squared Error: {mse_dt}\")\n",
        "print(f\"Decision Tree R-squared Score: {r2_dt}\")\n"
      ],
      "metadata": {
        "colab": {
          "base_uri": "https://localhost:8080/"
        },
        "id": "PQoiN63uMtGQ",
        "outputId": "b259afaf-696c-4f1c-f111-00fe0f888d31"
      },
      "execution_count": null,
      "outputs": [
        {
          "output_type": "stream",
          "name": "stdout",
          "text": [
            "Decision Tree Mean Squared Error: 11.666960784313725\n",
            "Decision Tree R-squared Score: 0.8409060560968563\n"
          ]
        }
      ]
    },
    {
      "cell_type": "markdown",
      "source": [
        "**Gradient Boosting Regressor:**"
      ],
      "metadata": {
        "id": "r4LTng-ySI5D"
      }
    },
    {
      "cell_type": "code",
      "source": [
        "from sklearn.ensemble import GradientBoostingRegressor\n",
        "\n",
        "# Initialize Gradient Boosting Regressor\n",
        "gbr_model = GradientBoostingRegressor(random_state=42)\n",
        "\n",
        "# Train the model\n",
        "gbr_model.fit(X_train_scaled, y_train)\n",
        "\n",
        "# Predict on the test data\n",
        "y_pred_gbr = gbr_model.predict(X_test_scaled)\n",
        "\n",
        "# Evaluate the model\n",
        "mse_gbr = mean_squared_error(y_test, y_pred_gbr)\n",
        "r2_gbr = r2_score(y_test, y_pred_gbr)\n",
        "\n",
        "print(f\"Gradient Boosting Mean Squared Error: {mse_gbr}\")\n",
        "print(f\"Gradient Boosting R-squared Score: {r2_gbr}\")\n"
      ],
      "metadata": {
        "colab": {
          "base_uri": "https://localhost:8080/"
        },
        "id": "yChCtLnJMw_0",
        "outputId": "c2c29707-bb5a-4145-fc5c-5aece5bf0b6b"
      },
      "execution_count": null,
      "outputs": [
        {
          "output_type": "stream",
          "name": "stdout",
          "text": [
            "Gradient Boosting Mean Squared Error: 7.3640386629377685\n",
            "Gradient Boosting R-squared Score: 0.8995819069249646\n"
          ]
        }
      ]
    },
    {
      "cell_type": "markdown",
      "source": [
        "# **Step 4:Evaluation**"
      ],
      "metadata": {
        "id": "LSoUPb5iSPE9"
      }
    },
    {
      "cell_type": "code",
      "source": [
        "# Evaluation of Linear Regression\n",
        "print(f\"Linear Regression MSE: {mse_lr}\")\n",
        "print(f\"Linear Regression R²: {r2_lr}\")\n",
        "\n",
        "# Evaluation of Decision Tree\n",
        "print(f\"Decision Tree MSE: {mse_dt}\")\n",
        "print(f\"Decision Tree R²: {r2_dt}\")\n",
        "\n",
        "# Evaluation of Gradient Boosting\n",
        "print(f\"Gradient Boosting MSE: {mse_gbr}\")\n",
        "print(f\"Gradient Boosting R²: {r2_gbr}\")\n"
      ],
      "metadata": {
        "colab": {
          "base_uri": "https://localhost:8080/"
        },
        "id": "oIzdEgDYMz2n",
        "outputId": "ad9ac0cf-3776-48bc-bc0a-3ca168f39fb1"
      },
      "execution_count": null,
      "outputs": [
        {
          "output_type": "stream",
          "name": "stdout",
          "text": [
            "Linear Regression MSE: 25.017672023842852\n",
            "Linear Regression R²: 0.658852019550812\n",
            "Decision Tree MSE: 11.666960784313725\n",
            "Decision Tree R²: 0.8409060560968563\n",
            "Gradient Boosting MSE: 7.3640386629377685\n",
            "Gradient Boosting R²: 0.8995819069249646\n"
          ]
        }
      ]
    },
    {
      "cell_type": "markdown",
      "source": [
        "# **Step 5:Fine-Tuning**"
      ],
      "metadata": {
        "id": "ZVZD4GwBSeZ3"
      }
    },
    {
      "cell_type": "code",
      "source": [
        "# Fine-tuning the Gradient Boosting Regressor\n",
        "gbr_tuned = GradientBoostingRegressor(n_estimators=200, learning_rate=0.1, max_depth=4, random_state=42)\n",
        "gbr_tuned.fit(X_train_scaled, y_train)\n",
        "\n",
        "# Predict on the test data\n",
        "y_pred_gbr_tuned = gbr_tuned.predict(X_test_scaled)\n",
        "\n",
        "# Evaluate the fine-tuned model\n",
        "mse_gbr_tuned = mean_squared_error(y_test, y_pred_gbr_tuned)\n",
        "r2_gbr_tuned = r2_score(y_test, y_pred_gbr_tuned)\n",
        "\n",
        "print(f\"Tuned Gradient Boosting MSE: {mse_gbr_tuned}\")\n",
        "print(f\"Tuned Gradient Boosting R²: {r2_gbr_tuned}\")\n"
      ],
      "metadata": {
        "colab": {
          "base_uri": "https://localhost:8080/"
        },
        "id": "Yum1KmVYM2zr",
        "outputId": "d8f7222d-8bc3-40a2-c053-fa374c709af0"
      },
      "execution_count": null,
      "outputs": [
        {
          "output_type": "stream",
          "name": "stdout",
          "text": [
            "Tuned Gradient Boosting MSE: 5.260544405481728\n",
            "Tuned Gradient Boosting R²: 0.9282657435798576\n"
          ]
        }
      ]
    },
    {
      "cell_type": "markdown",
      "source": [
        "# **Step 6:Hyperparameter Tuning**\n"
      ],
      "metadata": {
        "id": "ZsxCkWM7TA_P"
      }
    },
    {
      "cell_type": "code",
      "source": [
        "from sklearn.model_selection import GridSearchCV\n",
        "from sklearn.ensemble import GradientBoostingRegressor\n",
        "\n",
        "# Define the parameter grid\n",
        "param_grid = {\n",
        "    'n_estimators': [100, 200, 300],\n",
        "    'learning_rate': [0.01, 0.1, 0.2],\n",
        "    'max_depth': [3, 4, 5],\n",
        "    'min_samples_split': [2, 5, 10],\n",
        "}\n",
        "\n",
        "# Initialize Gradient Boosting Regressor\n",
        "gbr = GradientBoostingRegressor(random_state=42)\n",
        "\n",
        "# Initialize Grid Search\n",
        "grid_search = GridSearchCV(estimator=gbr, param_grid=param_grid, cv=5, scoring='neg_mean_squared_error', verbose=2, n_jobs=-1)\n",
        "\n",
        "# Fit Grid Search\n",
        "grid_search.fit(X_train_scaled, y_train)\n",
        "\n",
        "# Best parameters and score\n",
        "print(\"Best parameters found: \", grid_search.best_params_)\n",
        "print(\"Best score found: \", -grid_search.best_score_)\n"
      ],
      "metadata": {
        "colab": {
          "base_uri": "https://localhost:8080/"
        },
        "id": "7I-8jJVpNHDI",
        "outputId": "4e0cb7d3-82c7-4b21-daa0-8cab2c7290f5"
      },
      "execution_count": null,
      "outputs": [
        {
          "output_type": "stream",
          "name": "stdout",
          "text": [
            "Fitting 5 folds for each of 81 candidates, totalling 405 fits\n",
            "Best parameters found:  {'learning_rate': 0.1, 'max_depth': 3, 'min_samples_split': 2, 'n_estimators': 100}\n",
            "Best score found:  14.692194541258434\n"
          ]
        }
      ]
    },
    {
      "cell_type": "code",
      "source": [
        "# Check for missing values in the original dataset\n",
        "print(data.isnull().sum())\n"
      ],
      "metadata": {
        "colab": {
          "base_uri": "https://localhost:8080/"
        },
        "id": "bb3LftPXNdFC",
        "outputId": "b71a1c74-0b51-49bf-cbcb-96c9ceebead0"
      },
      "execution_count": null,
      "outputs": [
        {
          "output_type": "stream",
          "name": "stdout",
          "text": [
            "CRIM       20\n",
            "ZN         20\n",
            "INDUS      20\n",
            "CHAS       20\n",
            "NOX         0\n",
            "RM          0\n",
            "AGE        20\n",
            "DIS         0\n",
            "RAD         0\n",
            "TAX         0\n",
            "PTRATIO     0\n",
            "B           0\n",
            "LSTAT      20\n",
            "MEDV        0\n",
            "dtype: int64\n"
          ]
        }
      ]
    },
    {
      "cell_type": "markdown",
      "source": [
        "**Randomized Search**"
      ],
      "metadata": {
        "id": "Rf2oEQFgTSDl"
      }
    },
    {
      "cell_type": "code",
      "source": [
        "from sklearn.impute import SimpleImputer\n",
        "\n",
        "# Initialize the imputer\n",
        "imputer = SimpleImputer(strategy='mean')\n",
        "\n",
        "# Fit and transform the training data\n",
        "X_imputed = imputer.fit_transform(X)\n",
        "\n",
        "# Split the imputed data into training and testing sets\n",
        "X_train, X_test, y_train, y_test = train_test_split(X_imputed, y, test_size=0.2, random_state=42)\n",
        "\n",
        "# Now scale the data\n",
        "scaler = StandardScaler()\n",
        "X_train_scaled = scaler.fit_transform(X_train)\n",
        "X_test_scaled = scaler.transform(X_test)\n"
      ],
      "metadata": {
        "id": "df-qi1McOk5V"
      },
      "execution_count": null,
      "outputs": []
    },
    {
      "cell_type": "markdown",
      "source": [
        "# **Step 7:Cross-Validation**"
      ],
      "metadata": {
        "id": "2ACS4Qv-TV1p"
      }
    },
    {
      "cell_type": "code",
      "source": [
        "from sklearn.ensemble import GradientBoostingRegressor\n",
        "from sklearn.model_selection import RandomizedSearchCV\n",
        "from scipy.stats import randint, uniform\n",
        "\n",
        "# Define the parameter distributions\n",
        "param_dist = {\n",
        "    'n_estimators': randint(100, 300),\n",
        "    'learning_rate': uniform(0.01, 0.2),\n",
        "    'max_depth': randint(3, 6),\n",
        "    'min_samples_split': randint(2, 11),\n",
        "}\n",
        "\n",
        "# Initialize Gradient Boosting Regressor\n",
        "gbr = GradientBoostingRegressor(random_state=42)\n",
        "\n",
        "# Initialize Randomized Search\n",
        "random_search = RandomizedSearchCV(estimator=gbr, param_distributions=param_dist, n_iter=50, cv=5, scoring='neg_mean_squared_error', verbose=2, n_jobs=-1, random_state=42)\n",
        "\n",
        "# Fit Randomized Search\n",
        "random_search.fit(X_train_scaled, y_train)\n",
        "\n",
        "# Best parameters and score\n",
        "print(\"Best parameters found: \", random_search.best_params_)\n",
        "print(\"Best score found: \", -random_search.best_score_)\n"
      ],
      "metadata": {
        "colab": {
          "base_uri": "https://localhost:8080/"
        },
        "id": "lV8TWkijOnbx",
        "outputId": "d633fd0c-7cb7-49ea-dabc-2ad9860e347b"
      },
      "execution_count": null,
      "outputs": [
        {
          "output_type": "stream",
          "name": "stdout",
          "text": [
            "Fitting 5 folds for each of 50 candidates, totalling 250 fits\n",
            "Best parameters found:  {'learning_rate': 0.19299193510875617, 'max_depth': 3, 'min_samples_split': 9, 'n_estimators': 111}\n",
            "Best score found:  13.267099450361235\n"
          ]
        }
      ]
    },
    {
      "cell_type": "markdown",
      "source": [
        "# **Step 8:Feature Engineering**"
      ],
      "metadata": {
        "id": "2dHBzDvHTmq5"
      }
    },
    {
      "cell_type": "code",
      "source": [
        "from sklearn.model_selection import cross_val_score\n",
        "from sklearn.ensemble import GradientBoostingRegressor\n",
        "\n",
        "# Initialize Gradient Boosting Regressor\n",
        "gbr = GradientBoostingRegressor(random_state=42)\n",
        "\n",
        "# Perform cross-validation\n",
        "cv_scores = cross_val_score(gbr, X_train_scaled, y_train, cv=5, scoring='neg_mean_squared_error')\n",
        "\n",
        "print(\"Cross-Validation MSE Scores: \", -cv_scores)\n",
        "print(\"Mean CV MSE: \", -cv_scores.mean())\n",
        "print(\"Standard Deviation of CV MSE: \", cv_scores.std())\n"
      ],
      "metadata": {
        "colab": {
          "base_uri": "https://localhost:8080/"
        },
        "id": "h8q-ls7vO7HV",
        "outputId": "72ee0d5e-e413-4f1c-d46c-ed4d8aa99871"
      },
      "execution_count": null,
      "outputs": [
        {
          "output_type": "stream",
          "name": "stdout",
          "text": [
            "Cross-Validation MSE Scores:  [ 9.854227   27.60312187 10.99664088 12.48962306 12.5173599 ]\n",
            "Mean CV MSE:  14.692194541258434\n",
            "Standard Deviation of CV MSE:  6.532018340929902\n"
          ]
        }
      ]
    },
    {
      "cell_type": "code",
      "source": [
        "from sklearn.preprocessing import PolynomialFeatures\n",
        "\n",
        "poly = PolynomialFeatures(degree=2, include_bias=False)\n",
        "X_poly = poly.fit_transform(X_train_scaled)\n",
        "\n",
        "# Use these features for training\n",
        "X_train_poly, X_test_poly, y_train, y_test = train_test_split(X_poly, y_train, test_size=0.2, random_state=42)\n"
      ],
      "metadata": {
        "id": "KDp_mb8ePH5g"
      },
      "execution_count": null,
      "outputs": []
    },
    {
      "cell_type": "code",
      "source": [
        "from sklearn.feature_selection import SelectFromModel\n",
        "\n",
        "# Fit a model to get feature importances\n",
        "gbr.fit(X_train_scaled, y_train)\n",
        "model = SelectFromModel(gbr, threshold=\"mean\", prefit=True)\n",
        "\n",
        "# Transform the features\n",
        "X_train_selected = model.transform(X_train_scaled)\n",
        "X_test_selected = model.transform(X_test_scaled)\n"
      ],
      "metadata": {
        "id": "MAbVFHjKPKSF"
      },
      "execution_count": null,
      "outputs": []
    },
    {
      "cell_type": "code",
      "source": [
        "# Example interaction feature creation\n",
        "data['RM_DIS'] = data['RM'] * data['DIS']\n"
      ],
      "metadata": {
        "id": "hyCWbr2APn75"
      },
      "execution_count": null,
      "outputs": []
    },
    {
      "cell_type": "code",
      "source": [
        "print(\"X_train_scaled shape:\", X_train_scaled.shape)\n",
        "print(\"y_train shape:\", y_train.shape)\n"
      ],
      "metadata": {
        "colab": {
          "base_uri": "https://localhost:8080/"
        },
        "id": "CEwa4uG9PVz0",
        "outputId": "6d443a8b-8483-4927-90d6-1c95b84bf808"
      },
      "execution_count": null,
      "outputs": [
        {
          "output_type": "stream",
          "name": "stdout",
          "text": [
            "X_train_scaled shape: (404, 13)\n",
            "y_train shape: (323,)\n"
          ]
        }
      ]
    },
    {
      "cell_type": "code",
      "source": [
        "from sklearn.impute import SimpleImputer\n",
        "from sklearn.preprocessing import StandardScaler\n",
        "from sklearn.model_selection import train_test_split\n",
        "from sklearn.ensemble import GradientBoostingRegressor\n",
        "from sklearn.feature_selection import SelectFromModel\n",
        "\n",
        "# Load the dataset\n",
        "data = pd.read_csv('HousingData.csv')  # Adjust path as necessary\n",
        "\n",
        "# Define features and target\n",
        "X = data.drop(columns=['MEDV'])\n",
        "y = data['MEDV']\n",
        "\n",
        "# Impute missing values\n",
        "imputer = SimpleImputer(strategy='mean')\n",
        "X_imputed = imputer.fit_transform(X)\n",
        "\n",
        "# Split the data into training and testing sets\n",
        "X_train, X_test, y_train, y_test = train_test_split(X_imputed, y, test_size=0.2, random_state=42)\n",
        "\n",
        "# Scale the data\n",
        "scaler = StandardScaler()\n",
        "X_train_scaled = scaler.fit_transform(X_train)\n",
        "X_test_scaled = scaler.transform(X_test)\n",
        "\n",
        "# Initialize and fit the model\n",
        "gbr = GradientBoostingRegressor(random_state=42)\n",
        "gbr.fit(X_train_scaled, y_train)\n",
        "\n",
        "# Feature selection\n",
        "model = SelectFromModel(gbr, threshold=\"mean\", prefit=True)\n",
        "X_train_selected = model.transform(X_train_scaled)\n",
        "X_test_selected = model.transform(X_test_scaled)\n"
      ],
      "metadata": {
        "id": "YZ_OShE-PXeA"
      },
      "execution_count": null,
      "outputs": []
    },
    {
      "cell_type": "code",
      "source": [
        "print(\"X_train_scaled shape:\", X_train_scaled.shape)\n",
        "print(\"y_train shape:\", y_train.shape)\n",
        "print(\"X_test_scaled shape:\", X_test_scaled.shape)\n",
        "print(\"X_train_selected shape:\", X_train_selected.shape)\n",
        "print(\"X_test_selected shape:\", X_test_selected.shape)\n"
      ],
      "metadata": {
        "colab": {
          "base_uri": "https://localhost:8080/"
        },
        "id": "33DtQhC-PbaO",
        "outputId": "e73eac78-dd59-4a31-c439-99a1b185a8ce"
      },
      "execution_count": null,
      "outputs": [
        {
          "output_type": "stream",
          "name": "stdout",
          "text": [
            "X_train_scaled shape: (404, 13)\n",
            "y_train shape: (404,)\n",
            "X_test_scaled shape: (102, 13)\n",
            "X_train_selected shape: (404, 3)\n",
            "X_test_selected shape: (102, 3)\n"
          ]
        }
      ]
    }
  ]
}